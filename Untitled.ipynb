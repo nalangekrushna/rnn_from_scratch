{
 "cells": [
  {
   "cell_type": "markdown",
   "metadata": {},
   "source": [
    "## Build RNN from scratch"
   ]
  },
  {
   "cell_type": "code",
   "execution_count": 1,
   "metadata": {},
   "outputs": [],
   "source": [
    "import numpy as np"
   ]
  },
  {
   "cell_type": "code",
   "execution_count": 9,
   "metadata": {
    "collapsed": true
   },
   "outputs": [
    {
     "data": {
      "text/plain": [
       "(array([['1.0', '0.0', '0.0', ..., '0.0', '0.0', '0.0'],\n",
       "        ['0.0', '1.0', '0.0', ..., '0.0', '0.0', '0.0'],\n",
       "        ['0.0', '0.0', '1.0', ..., '0.0', '0.0', '0.0'],\n",
       "        ...,\n",
       "        ['0.0', '0.0', '0.0', ..., '0.0', '1.0', '0.0'],\n",
       "        ['0.0', '0.0', '0.0', ..., '0.0', '0.0', '1.0'],\n",
       "        ['W', 'v', 'T', ..., 'm', 'b', 'o']], dtype='<U32'),\n",
       " 65,\n",
       " array([[0., 0., 0., ..., 0., 0., 0.],\n",
       "        [0., 0., 0., ..., 0., 0., 0.],\n",
       "        [0., 0., 0., ..., 0., 0., 0.],\n",
       "        ...,\n",
       "        [0., 0., 0., ..., 0., 0., 0.],\n",
       "        [0., 0., 0., ..., 0., 0., 0.],\n",
       "        [0., 0., 0., ..., 0., 0., 0.]]),\n",
       " 3742,\n",
       " ['W',\n",
       "  'v',\n",
       "  'T',\n",
       "  '0',\n",
       "  'Y',\n",
       "  'k',\n",
       "  'z',\n",
       "  '8',\n",
       "  '3',\n",
       "  's',\n",
       "  ':',\n",
       "  '/',\n",
       "  'M',\n",
       "  'E',\n",
       "  ',',\n",
       "  'H',\n",
       "  'F',\n",
       "  '…',\n",
       "  '!',\n",
       "  '\\t',\n",
       "  'C',\n",
       "  'l',\n",
       "  'U',\n",
       "  'x',\n",
       "  'p',\n",
       "  ' ',\n",
       "  '’',\n",
       "  '(',\n",
       "  '=',\n",
       "  'L',\n",
       "  'A',\n",
       "  '2',\n",
       "  'n',\n",
       "  'e',\n",
       "  ')',\n",
       "  '1',\n",
       "  '”',\n",
       "  '?',\n",
       "  'h',\n",
       "  '5',\n",
       "  'f',\n",
       "  '-',\n",
       "  't',\n",
       "  'y',\n",
       "  'u',\n",
       "  'g',\n",
       "  'a',\n",
       "  'I',\n",
       "  'R',\n",
       "  'i',\n",
       "  '.',\n",
       "  'q',\n",
       "  'c',\n",
       "  'd',\n",
       "  'S',\n",
       "  '\\n',\n",
       "  'r',\n",
       "  '“',\n",
       "  'G',\n",
       "  'N',\n",
       "  'w',\n",
       "  '4',\n",
       "  'm',\n",
       "  'b',\n",
       "  'o'])"
      ]
     },
     "execution_count": 9,
     "metadata": {},
     "output_type": "execute_result"
    }
   ],
   "source": [
    "def read_text_file():\n",
    "    #Open textfile and return a separated input and output variable(series of words)\n",
    "    with open(\"RNN LSTM.txt\", \"r\",encoding='utf-8') as text_file:\n",
    "        data = text_file.read()\n",
    "    text = list(data)\n",
    "    outputSize = len(text)\n",
    "    data = list(set(text))\n",
    "    uniqueWords, dataSize = len(data), len(data) \n",
    "    returnData = np.zeros((uniqueWords, dataSize))\n",
    "    for i in range(0, dataSize):\n",
    "        returnData[i][i] = 1\n",
    "    returnData = np.append(returnData, np.atleast_2d(data), axis=0)\n",
    "    output = np.zeros((uniqueWords, outputSize))\n",
    "    for i in range(0, outputSize):\n",
    "        index = np.where(np.asarray(data) == text[i])\n",
    "        output[:,i] = returnData[0:-1,index[0]].astype(float).ravel()  \n",
    "    return returnData, uniqueWords, output, outputSize, data\n",
    "returnData, numCategories, expectedOutput, outputSize, data = \n",
    "read_text_file()"
   ]
  },
  {
   "cell_type": "code",
   "execution_count": null,
   "metadata": {},
   "outputs": [],
   "source": [
    "class RNN() :\n",
    "    def __init__(self,inp,out,ruccerence,out_list,lr) :\n",
    "        self.x = np.zeros(inp)\n",
    "    \n",
    "    "
   ]
  },
  {
   "cell_type": "code",
   "execution_count": null,
   "metadata": {},
   "outputs": [],
   "source": []
  }
 ],
 "metadata": {
  "kernelspec": {
   "display_name": "Python 3",
   "language": "python",
   "name": "python3"
  },
  "language_info": {
   "codemirror_mode": {
    "name": "ipython",
    "version": 3
   },
   "file_extension": ".py",
   "mimetype": "text/x-python",
   "name": "python",
   "nbconvert_exporter": "python",
   "pygments_lexer": "ipython3",
   "version": "3.7.4"
  }
 },
 "nbformat": 4,
 "nbformat_minor": 2
}
